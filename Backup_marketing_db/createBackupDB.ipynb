{
 "cells": [
  {
   "cell_type": "code",
   "execution_count": null,
   "metadata": {},
   "outputs": [],
   "source": [
    "from google.cloud import bigquery\n",
    "from datetime import datetime\n",
    "import os\n",
    "\n",
    "# Configurações\n",
    "os.environ[\"GOOGLE_APPLICATION_CREDENTIALS\"] = r\"C:\\Users\\geraldo.junior\\DEV\\Database_mkt\\credenciais\\big_query_key_geraldo-junior.json\"\n",
    "project_id = 'meta-vc-contabil'\n",
    "source_dataset_id = 'marketing_db'\n",
    "backup_dataset_id = f'marketing_db_backup_{datetime.now().strftime(\"%d%m%Y_%H%M\")}'\n",
    "\n",
    "# Inicializa o cliente do BigQuery\n",
    "client = bigquery.Client(project=project_id)\n",
    "\n",
    "# Cria o novo conjunto de dados para o backup\n",
    "backup_dataset_ref = client.dataset(backup_dataset_id, project=project_id)\n",
    "backup_dataset = bigquery.Dataset(backup_dataset_ref)\n",
    "backup_dataset.location = 'US'  # Defina a localização do dataset\n",
    "backup_dataset = client.create_dataset(backup_dataset)  # Cria o dataset\n",
    "\n",
    "print(f'Conjunto de dados de backup criado: {backup_dataset_id}')\n",
    "\n",
    "# Lista todas as tabelas no conjunto de dados original\n",
    "tables = client.list_tables(source_dataset_id)\n",
    "\n",
    "# Copia cada tabela para o novo conjunto de dados\n",
    "for table in tables:\n",
    "    source_table_id = f'{project_id}.{source_dataset_id}.{table.table_id}'\n",
    "    destination_table_id = f'{project_id}.{backup_dataset_id}.{table.table_id}'\n",
    "    \n",
    "    job = client.copy_table(source_table_id, destination_table_id)\n",
    "    job.result()  # Espera a conclusão do job\n",
    "\n",
    "    print(f'Tabela {table.table_id} copiada para {destination_table_id}')\n",
    "\n",
    "print('Backup concluído com sucesso!')"
   ]
  }
 ],
 "metadata": {
  "kernelspec": {
   "display_name": "Python 3",
   "language": "python",
   "name": "python3"
  },
  "language_info": {
   "codemirror_mode": {
    "name": "ipython",
    "version": 3
   },
   "file_extension": ".py",
   "mimetype": "text/x-python",
   "name": "python",
   "nbconvert_exporter": "python",
   "pygments_lexer": "ipython3",
   "version": "3.12.6"
  }
 },
 "nbformat": 4,
 "nbformat_minor": 2
}
